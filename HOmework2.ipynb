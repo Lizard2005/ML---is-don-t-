{
 "cells": [
  {
   "cell_type": "markdown",
   "id": "87db524d-5632-4ea6-b057-45f35e6e05df",
   "metadata": {},
   "source": [
    "# Вторая задача"
   ]
  },
  {
   "cell_type": "code",
   "execution_count": 1,
   "id": "9eae893e-d8a0-4df6-8113-7fc0ef645df9",
   "metadata": {},
   "outputs": [],
   "source": [
    "import requests\n",
    "import pandas as pd \n",
    "import time\n",
    "import os\n",
    "os.chdir(r'C:\\Users\\Admin\\Downloads\\Telegram Desktop')\n",
    "from datetime import datetime\n",
    "import seaborn as sns\n",
    "from sklearn.preprocessing import MinMaxScaler\n",
    "from sklearn.linear_model import LinearRegression\n",
    "import matplotlib.pyplot as plt\n",
    "from sklearn.model_selection import train_test_split\n",
    "from sklearn.metrics import mean_squared_error, mean_absolute_percentage_error\n",
    "from sklearn import datasets, linear_model\n",
    "import statsmodels.api as sm\n",
    "from scipy import stats"
   ]
  },
  {
   "cell_type": "markdown",
   "id": "2b36d065-e1fd-4eff-841e-67a952e50cee",
   "metadata": {},
   "source": [
    "# Выгрузка данных "
   ]
  },
  {
   "cell_type": "code",
   "execution_count": 2,
   "id": "f74031a9-8da4-4f87-88d0-8c13b02000eb",
   "metadata": {},
   "outputs": [],
   "source": [
    "def read(path: str):\n",
    "    df = pd.read_csv(f'./{path}', sep=';').drop(columns=['dataset'])\n",
    "\n",
    "    df['date'] = pd.to_datetime(df['date'], format='%d.%m.%Y')\n",
    "    \n",
    "    return df\n",
    "    "
   ]
  },
  {
   "cell_type": "code",
   "execution_count": 3,
   "id": "b87754c0-f2b6-4287-8eae-c30c00149858",
   "metadata": {},
   "outputs": [],
   "source": [
    "rate = read(\"Официальный_курс_доллара_США_на_заданную_дату,_устанавливаемый_ежедневно.csv\")\n",
    "stavka = read(\"Базовая_ставка_краткосрочная,_%,_Россия_—_Диаграмма.csv\")"
   ]
  },
  {
   "cell_type": "code",
   "execution_count": 4,
   "id": "4c9ca80a-1d0d-44bc-9b8a-61d008a7494c",
   "metadata": {},
   "outputs": [
    {
     "name": "stderr",
     "output_type": "stream",
     "text": [
      "C:\\Users\\Admin\\AppData\\Local\\Temp\\ipykernel_11696\\2609164059.py:19: FutureWarning: The behavior of DataFrame concatenation with empty or all-NA entries is deprecated. In a future version, this will no longer exclude empty or all-NA columns when determining the result dtypes. To retain the old behavior, exclude the relevant entries before the concat operation.\n",
      "  df_SBER = pd.concat(df_list, ignore_index=True)\n"
     ]
    }
   ],
   "source": [
    "df_list = []\n",
    "\n",
    "for count in range(0, 10000, 100):\n",
    "    URL_SBER = f'https://iss.moex.com/iss/history/engines/stock/markets/shares/securities/SBER.json?start={count}' \n",
    "    \n",
    "    response_SBER = requests.get(URL_SBER)\n",
    "    data_SBER = response_SBER.json()[\"history\"]\n",
    "\n",
    "    if response_SBER.status_code == 200:\n",
    "\n",
    "        columns_SBER = data_SBER[\"columns\"]\n",
    "        values_SBER = data_SBER[\"data\"]\n",
    "        \n",
    "        df_temp = pd.DataFrame(values_SBER, columns=columns_SBER)\n",
    "        df_list.append(df_temp)\n",
    "    else:\n",
    "        print(f\"Ошибка при получении данных: {response_SBER.status_code}\")\n",
    "        \n",
    "df_SBER = pd.concat(df_list, ignore_index=True)"
   ]
  },
  {
   "cell_type": "code",
   "execution_count": 5,
   "id": "a3fd15a1-424f-42f3-87de-9ca8bba89745",
   "metadata": {},
   "outputs": [
    {
     "name": "stderr",
     "output_type": "stream",
     "text": [
      "C:\\Users\\Admin\\AppData\\Local\\Temp\\ipykernel_11696\\1946984765.py:20: FutureWarning: The behavior of DataFrame concatenation with empty or all-NA entries is deprecated. In a future version, this will no longer exclude empty or all-NA columns when determining the result dtypes. To retain the old behavior, exclude the relevant entries before the concat operation.\n",
      "  df_history = pd.concat(df_list, ignore_index=True)\n"
     ]
    }
   ],
   "source": [
    "df_list = []\n",
    "\n",
    "for count in range(0, 7000, 100):\n",
    "    URL_history = f'https://iss.moex.com/iss/history/engines/stock/markets/index/securities/IMOEX.json?start={count}' \n",
    "    \n",
    "    response_history = requests.get(URL_history)\n",
    " \n",
    "    if response_history.status_code == 200:\n",
    "        data_history = response_history.json()[\"history\"]\n",
    "\n",
    "        columns_history = data_history[\"columns\"]\n",
    "        values_history = data_history[\"data\"]\n",
    "        \n",
    "        df_temp = pd.DataFrame(values_history, columns=columns_history)\n",
    "        df_list.append(df_temp)\n",
    "    else:\n",
    "        print(f\"Ошибка при получении данных: {response_history.status_code}\")\n",
    "\n",
    "\n",
    "df_history = pd.concat(df_list, ignore_index=True)"
   ]
  },
  {
   "cell_type": "markdown",
   "id": "e7f5d95b-ba35-47b8-b5e9-b6844b391c59",
   "metadata": {},
   "source": [
    "# Предобработка rate"
   ]
  },
  {
   "cell_type": "code",
   "execution_count": 6,
   "id": "9a893461-63b2-4e72-9c4a-10399f5b4687",
   "metadata": {},
   "outputs": [
    {
     "data": {
      "text/html": [
       "<div>\n",
       "<style scoped>\n",
       "    .dataframe tbody tr th:only-of-type {\n",
       "        vertical-align: middle;\n",
       "    }\n",
       "\n",
       "    .dataframe tbody tr th {\n",
       "        vertical-align: top;\n",
       "    }\n",
       "\n",
       "    .dataframe thead th {\n",
       "        text-align: right;\n",
       "    }\n",
       "</style>\n",
       "<table border=\"1\" class=\"dataframe\">\n",
       "  <thead>\n",
       "    <tr style=\"text-align: right;\">\n",
       "      <th></th>\n",
       "      <th>date</th>\n",
       "      <th>Официальный курс доллара США на заданную дату, устанавливаемый ежедневно.</th>\n",
       "    </tr>\n",
       "  </thead>\n",
       "  <tbody>\n",
       "    <tr>\n",
       "      <th>0</th>\n",
       "      <td>1992-07-01</td>\n",
       "      <td>125.2600</td>\n",
       "    </tr>\n",
       "    <tr>\n",
       "      <th>1</th>\n",
       "      <td>1992-07-03</td>\n",
       "      <td>134.8000</td>\n",
       "    </tr>\n",
       "    <tr>\n",
       "      <th>2</th>\n",
       "      <td>1992-07-08</td>\n",
       "      <td>130.5000</td>\n",
       "    </tr>\n",
       "    <tr>\n",
       "      <th>3</th>\n",
       "      <td>1992-07-10</td>\n",
       "      <td>130.3000</td>\n",
       "    </tr>\n",
       "    <tr>\n",
       "      <th>4</th>\n",
       "      <td>1992-07-15</td>\n",
       "      <td>130.2000</td>\n",
       "    </tr>\n",
       "    <tr>\n",
       "      <th>...</th>\n",
       "      <td>...</td>\n",
       "      <td>...</td>\n",
       "    </tr>\n",
       "    <tr>\n",
       "      <th>7364</th>\n",
       "      <td>2024-06-22</td>\n",
       "      <td>87.9595</td>\n",
       "    </tr>\n",
       "    <tr>\n",
       "      <th>7365</th>\n",
       "      <td>2024-06-25</td>\n",
       "      <td>87.3730</td>\n",
       "    </tr>\n",
       "    <tr>\n",
       "      <th>7366</th>\n",
       "      <td>2024-06-26</td>\n",
       "      <td>87.2770</td>\n",
       "    </tr>\n",
       "    <tr>\n",
       "      <th>7367</th>\n",
       "      <td>2024-06-27</td>\n",
       "      <td>87.8064</td>\n",
       "    </tr>\n",
       "    <tr>\n",
       "      <th>7368</th>\n",
       "      <td>2024-06-28</td>\n",
       "      <td>84.9640</td>\n",
       "    </tr>\n",
       "  </tbody>\n",
       "</table>\n",
       "<p>7369 rows × 2 columns</p>\n",
       "</div>"
      ],
      "text/plain": [
       "           date  \\\n",
       "0    1992-07-01   \n",
       "1    1992-07-03   \n",
       "2    1992-07-08   \n",
       "3    1992-07-10   \n",
       "4    1992-07-15   \n",
       "...         ...   \n",
       "7364 2024-06-22   \n",
       "7365 2024-06-25   \n",
       "7366 2024-06-26   \n",
       "7367 2024-06-27   \n",
       "7368 2024-06-28   \n",
       "\n",
       "      Официальный курс доллара США на заданную дату, устанавливаемый ежедневно.  \n",
       "0                                              125.2600                          \n",
       "1                                              134.8000                          \n",
       "2                                              130.5000                          \n",
       "3                                              130.3000                          \n",
       "4                                              130.2000                          \n",
       "...                                                 ...                          \n",
       "7364                                            87.9595                          \n",
       "7365                                            87.3730                          \n",
       "7366                                            87.2770                          \n",
       "7367                                            87.8064                          \n",
       "7368                                            84.9640                          \n",
       "\n",
       "[7369 rows x 2 columns]"
      ]
     },
     "execution_count": 6,
     "metadata": {},
     "output_type": "execute_result"
    }
   ],
   "source": [
    "rate"
   ]
  },
  {
   "cell_type": "code",
   "execution_count": 7,
   "id": "1dbc2516-e650-466e-ad6f-a516f82421e7",
   "metadata": {},
   "outputs": [
    {
     "name": "stdout",
     "output_type": "stream",
     "text": [
      "<class 'pandas.core.frame.DataFrame'>\n",
      "RangeIndex: 7357 entries, 0 to 7356\n",
      "Data columns (total 3 columns):\n",
      " #   Column          Non-Null Count  Dtype         \n",
      "---  ------          --------------  -----         \n",
      " 0   date            7357 non-null   datetime64[ns]\n",
      " 1   Курс рубля      7357 non-null   float64       \n",
      " 2   Курс рубля в %  7357 non-null   float64       \n",
      "dtypes: datetime64[ns](1), float64(2)\n",
      "memory usage: 172.6 KB\n"
     ]
    }
   ],
   "source": [
    "rate_cleaned = (rate.drop_duplicates(subset=['date'])\n",
    "                .dropna(subset=['Официальный курс доллара США на заданную дату, устанавливаемый ежедневно.'])\n",
    "                .rename(columns={'Официальный курс доллара США на заданную дату, устанавливаемый ежедневно.': \"Курс рубля\"})\n",
    "               )\n",
    "rate_cleaned['Курс рубля в %'] = (rate_cleaned['Курс рубля'] - rate_cleaned['Курс рубля'].shift(12)) / rate_cleaned['Курс рубля'].shift(12)\n",
    "rate_cleaned = (rate_cleaned.dropna()\n",
    "                .reset_index(drop=True))\n",
    "rate_cleaned.info()"
   ]
  },
  {
   "cell_type": "code",
   "execution_count": 8,
   "id": "c50f78dc-3517-412d-8854-ad85908c96ac",
   "metadata": {},
   "outputs": [
    {
     "data": {
      "text/html": [
       "<div>\n",
       "<style scoped>\n",
       "    .dataframe tbody tr th:only-of-type {\n",
       "        vertical-align: middle;\n",
       "    }\n",
       "\n",
       "    .dataframe tbody tr th {\n",
       "        vertical-align: top;\n",
       "    }\n",
       "\n",
       "    .dataframe thead th {\n",
       "        text-align: right;\n",
       "    }\n",
       "</style>\n",
       "<table border=\"1\" class=\"dataframe\">\n",
       "  <thead>\n",
       "    <tr style=\"text-align: right;\">\n",
       "      <th></th>\n",
       "      <th>date</th>\n",
       "      <th>Курс рубля</th>\n",
       "      <th>Курс рубля в %</th>\n",
       "    </tr>\n",
       "  </thead>\n",
       "  <tbody>\n",
       "    <tr>\n",
       "      <th>0</th>\n",
       "      <td>1992-08-12</td>\n",
       "      <td>161.7</td>\n",
       "      <td>0.290915</td>\n",
       "    </tr>\n",
       "    <tr>\n",
       "      <th>1</th>\n",
       "      <td>1992-08-14</td>\n",
       "      <td>162.5</td>\n",
       "      <td>0.205490</td>\n",
       "    </tr>\n",
       "    <tr>\n",
       "      <th>2</th>\n",
       "      <td>1992-08-19</td>\n",
       "      <td>162.5</td>\n",
       "      <td>0.245211</td>\n",
       "    </tr>\n",
       "  </tbody>\n",
       "</table>\n",
       "</div>"
      ],
      "text/plain": [
       "        date  Курс рубля  Курс рубля в %\n",
       "0 1992-08-12       161.7        0.290915\n",
       "1 1992-08-14       162.5        0.205490\n",
       "2 1992-08-19       162.5        0.245211"
      ]
     },
     "execution_count": 8,
     "metadata": {},
     "output_type": "execute_result"
    }
   ],
   "source": [
    "rate_cleaned.head(3)"
   ]
  },
  {
   "cell_type": "markdown",
   "id": "1f080840-aa3c-419c-8949-37aa35006035",
   "metadata": {},
   "source": [
    "# Предобработка stavka"
   ]
  },
  {
   "cell_type": "code",
   "execution_count": 9,
   "id": "eb51bfe9-734e-4410-a912-3d1e14bfc3d5",
   "metadata": {},
   "outputs": [
    {
     "data": {
      "text/html": [
       "<div>\n",
       "<style scoped>\n",
       "    .dataframe tbody tr th:only-of-type {\n",
       "        vertical-align: middle;\n",
       "    }\n",
       "\n",
       "    .dataframe tbody tr th {\n",
       "        vertical-align: top;\n",
       "    }\n",
       "\n",
       "    .dataframe thead th {\n",
       "        text-align: right;\n",
       "    }\n",
       "</style>\n",
       "<table border=\"1\" class=\"dataframe\">\n",
       "  <thead>\n",
       "    <tr style=\"text-align: right;\">\n",
       "      <th></th>\n",
       "      <th>date</th>\n",
       "      <th>Базовая ставка - краткосрочная, %, Россия</th>\n",
       "    </tr>\n",
       "  </thead>\n",
       "  <tbody>\n",
       "    <tr>\n",
       "      <th>0</th>\n",
       "      <td>1992-01-31</td>\n",
       "      <td>20.0</td>\n",
       "    </tr>\n",
       "    <tr>\n",
       "      <th>1</th>\n",
       "      <td>1992-02-29</td>\n",
       "      <td>20.0</td>\n",
       "    </tr>\n",
       "    <tr>\n",
       "      <th>2</th>\n",
       "      <td>1992-03-31</td>\n",
       "      <td>20.0</td>\n",
       "    </tr>\n",
       "  </tbody>\n",
       "</table>\n",
       "</div>"
      ],
      "text/plain": [
       "        date  Базовая ставка - краткосрочная, %, Россия\n",
       "0 1992-01-31                                       20.0\n",
       "1 1992-02-29                                       20.0\n",
       "2 1992-03-31                                       20.0"
      ]
     },
     "execution_count": 9,
     "metadata": {},
     "output_type": "execute_result"
    }
   ],
   "source": [
    "stavka.head(3)"
   ]
  },
  {
   "cell_type": "code",
   "execution_count": 10,
   "id": "e48019cd-c0f2-4559-b941-e99289bd47c6",
   "metadata": {},
   "outputs": [
    {
     "name": "stdout",
     "output_type": "stream",
     "text": [
      "<class 'pandas.core.frame.DataFrame'>\n",
      "RangeIndex: 11749 entries, 0 to 11748\n",
      "Data columns (total 2 columns):\n",
      " #   Column                                     Non-Null Count  Dtype         \n",
      "---  ------                                     --------------  -----         \n",
      " 0   date                                       11749 non-null  datetime64[ns]\n",
      " 1   Базовая ставка - краткосрочная, %, Россия  11749 non-null  float64       \n",
      "dtypes: datetime64[ns](1), float64(1)\n",
      "memory usage: 183.7 KB\n"
     ]
    }
   ],
   "source": [
    "stavka_cleaned = (stavka.set_index('date')\n",
    "                  .resample('D')\n",
    "                  .ffill()\n",
    "                  .reset_index()\n",
    "                 )\n",
    "stavka_cleaned.info()"
   ]
  },
  {
   "cell_type": "code",
   "execution_count": 11,
   "id": "cad857d4-e51a-487c-a753-acc81579e0bc",
   "metadata": {},
   "outputs": [
    {
     "data": {
      "text/html": [
       "<div>\n",
       "<style scoped>\n",
       "    .dataframe tbody tr th:only-of-type {\n",
       "        vertical-align: middle;\n",
       "    }\n",
       "\n",
       "    .dataframe tbody tr th {\n",
       "        vertical-align: top;\n",
       "    }\n",
       "\n",
       "    .dataframe thead th {\n",
       "        text-align: right;\n",
       "    }\n",
       "</style>\n",
       "<table border=\"1\" class=\"dataframe\">\n",
       "  <thead>\n",
       "    <tr style=\"text-align: right;\">\n",
       "      <th></th>\n",
       "      <th>date</th>\n",
       "      <th>Базовая ставка - краткосрочная, %, Россия</th>\n",
       "    </tr>\n",
       "  </thead>\n",
       "  <tbody>\n",
       "    <tr>\n",
       "      <th>0</th>\n",
       "      <td>1992-01-31</td>\n",
       "      <td>20.0</td>\n",
       "    </tr>\n",
       "    <tr>\n",
       "      <th>1</th>\n",
       "      <td>1992-02-01</td>\n",
       "      <td>20.0</td>\n",
       "    </tr>\n",
       "    <tr>\n",
       "      <th>2</th>\n",
       "      <td>1992-02-02</td>\n",
       "      <td>20.0</td>\n",
       "    </tr>\n",
       "  </tbody>\n",
       "</table>\n",
       "</div>"
      ],
      "text/plain": [
       "        date  Базовая ставка - краткосрочная, %, Россия\n",
       "0 1992-01-31                                       20.0\n",
       "1 1992-02-01                                       20.0\n",
       "2 1992-02-02                                       20.0"
      ]
     },
     "execution_count": 11,
     "metadata": {},
     "output_type": "execute_result"
    }
   ],
   "source": [
    "stavka_cleaned.head(3)"
   ]
  },
  {
   "cell_type": "markdown",
   "id": "bef8a2b5-4910-4162-94cb-8553384d739a",
   "metadata": {},
   "source": [
    "# Предобработка SBER`а "
   ]
  },
  {
   "cell_type": "code",
   "execution_count": 12,
   "id": "52372a3c-7d46-4f9f-ab55-e6deec15344a",
   "metadata": {},
   "outputs": [
    {
     "data": {
      "text/html": [
       "<div>\n",
       "<style scoped>\n",
       "    .dataframe tbody tr th:only-of-type {\n",
       "        vertical-align: middle;\n",
       "    }\n",
       "\n",
       "    .dataframe tbody tr th {\n",
       "        vertical-align: top;\n",
       "    }\n",
       "\n",
       "    .dataframe thead th {\n",
       "        text-align: right;\n",
       "    }\n",
       "</style>\n",
       "<table border=\"1\" class=\"dataframe\">\n",
       "  <thead>\n",
       "    <tr style=\"text-align: right;\">\n",
       "      <th></th>\n",
       "      <th>BOARDID</th>\n",
       "      <th>TRADEDATE</th>\n",
       "      <th>SHORTNAME</th>\n",
       "      <th>SECID</th>\n",
       "      <th>NUMTRADES</th>\n",
       "      <th>VALUE</th>\n",
       "      <th>OPEN</th>\n",
       "      <th>LOW</th>\n",
       "      <th>HIGH</th>\n",
       "      <th>LEGALCLOSEPRICE</th>\n",
       "      <th>...</th>\n",
       "      <th>MARKETPRICE2</th>\n",
       "      <th>MARKETPRICE3</th>\n",
       "      <th>ADMITTEDQUOTE</th>\n",
       "      <th>MP2VALTRD</th>\n",
       "      <th>MARKETPRICE3TRADESVALUE</th>\n",
       "      <th>ADMITTEDVALUE</th>\n",
       "      <th>WAVAL</th>\n",
       "      <th>TRADINGSESSION</th>\n",
       "      <th>CURRENCYID</th>\n",
       "      <th>TRENDCLSPR</th>\n",
       "    </tr>\n",
       "  </thead>\n",
       "  <tbody>\n",
       "    <tr>\n",
       "      <th>0</th>\n",
       "      <td>EQBR</td>\n",
       "      <td>2011-11-21</td>\n",
       "      <td>Сбербанк</td>\n",
       "      <td>SBER</td>\n",
       "      <td>128096</td>\n",
       "      <td>2.283014e+10</td>\n",
       "      <td>79.00</td>\n",
       "      <td>75.85</td>\n",
       "      <td>79.37</td>\n",
       "      <td>76.00</td>\n",
       "      <td>...</td>\n",
       "      <td>77.71</td>\n",
       "      <td>77.71</td>\n",
       "      <td>77.71</td>\n",
       "      <td>2.283016e+10</td>\n",
       "      <td>2.283016e+10</td>\n",
       "      <td>2.283016e+10</td>\n",
       "      <td>NaN</td>\n",
       "      <td>3</td>\n",
       "      <td>SUR</td>\n",
       "      <td>-5.05</td>\n",
       "    </tr>\n",
       "    <tr>\n",
       "      <th>1</th>\n",
       "      <td>SMAL</td>\n",
       "      <td>2011-11-21</td>\n",
       "      <td>Сбербанк</td>\n",
       "      <td>SBER</td>\n",
       "      <td>56</td>\n",
       "      <td>2.539949e+04</td>\n",
       "      <td>79.49</td>\n",
       "      <td>74.50</td>\n",
       "      <td>79.49</td>\n",
       "      <td>75.44</td>\n",
       "      <td>...</td>\n",
       "      <td>NaN</td>\n",
       "      <td>NaN</td>\n",
       "      <td>NaN</td>\n",
       "      <td>0.000000e+00</td>\n",
       "      <td>0.000000e+00</td>\n",
       "      <td>0.000000e+00</td>\n",
       "      <td>NaN</td>\n",
       "      <td>3</td>\n",
       "      <td>SUR</td>\n",
       "      <td>-7.45</td>\n",
       "    </tr>\n",
       "    <tr>\n",
       "      <th>2</th>\n",
       "      <td>EQBR</td>\n",
       "      <td>2011-11-22</td>\n",
       "      <td>Сбербанк</td>\n",
       "      <td>SBER</td>\n",
       "      <td>126144</td>\n",
       "      <td>2.091095e+10</td>\n",
       "      <td>76.40</td>\n",
       "      <td>75.10</td>\n",
       "      <td>77.76</td>\n",
       "      <td>76.08</td>\n",
       "      <td>...</td>\n",
       "      <td>76.71</td>\n",
       "      <td>76.71</td>\n",
       "      <td>76.71</td>\n",
       "      <td>2.091103e+10</td>\n",
       "      <td>2.091103e+10</td>\n",
       "      <td>2.091103e+10</td>\n",
       "      <td>NaN</td>\n",
       "      <td>3</td>\n",
       "      <td>SUR</td>\n",
       "      <td>0.54</td>\n",
       "    </tr>\n",
       "  </tbody>\n",
       "</table>\n",
       "<p>3 rows × 23 columns</p>\n",
       "</div>"
      ],
      "text/plain": [
       "  BOARDID   TRADEDATE SHORTNAME SECID NUMTRADES         VALUE   OPEN    LOW  \\\n",
       "0    EQBR  2011-11-21  Сбербанк  SBER    128096  2.283014e+10  79.00  75.85   \n",
       "1    SMAL  2011-11-21  Сбербанк  SBER        56  2.539949e+04  79.49  74.50   \n",
       "2    EQBR  2011-11-22  Сбербанк  SBER    126144  2.091095e+10  76.40  75.10   \n",
       "\n",
       "    HIGH  LEGALCLOSEPRICE  ...  MARKETPRICE2  MARKETPRICE3 ADMITTEDQUOTE  \\\n",
       "0  79.37            76.00  ...         77.71         77.71         77.71   \n",
       "1  79.49            75.44  ...           NaN           NaN           NaN   \n",
       "2  77.76            76.08  ...         76.71         76.71         76.71   \n",
       "\n",
       "      MP2VALTRD  MARKETPRICE3TRADESVALUE  ADMITTEDVALUE  WAVAL  \\\n",
       "0  2.283016e+10             2.283016e+10   2.283016e+10    NaN   \n",
       "1  0.000000e+00             0.000000e+00   0.000000e+00    NaN   \n",
       "2  2.091103e+10             2.091103e+10   2.091103e+10    NaN   \n",
       "\n",
       "   TRADINGSESSION  CURRENCYID  TRENDCLSPR  \n",
       "0               3         SUR       -5.05  \n",
       "1               3         SUR       -7.45  \n",
       "2               3         SUR        0.54  \n",
       "\n",
       "[3 rows x 23 columns]"
      ]
     },
     "execution_count": 12,
     "metadata": {},
     "output_type": "execute_result"
    }
   ],
   "source": [
    "df_SBER.head(3)"
   ]
  },
  {
   "cell_type": "code",
   "execution_count": 13,
   "id": "c9322337-c2dc-479c-8167-bb2956d4ba4a",
   "metadata": {},
   "outputs": [
    {
     "name": "stdout",
     "output_type": "stream",
     "text": [
      "<class 'pandas.core.frame.DataFrame'>\n",
      "Index: 6582 entries, 0 to 8841\n",
      "Data columns (total 3 columns):\n",
      " #   Column             Non-Null Count  Dtype         \n",
      "---  ------             --------------  -----         \n",
      " 0   date               6582 non-null   datetime64[ns]\n",
      " 1   Название компании  6582 non-null   object        \n",
      " 2   Цена компании      6582 non-null   float64       \n",
      "dtypes: datetime64[ns](1), float64(1), object(1)\n",
      "memory usage: 205.7+ KB\n"
     ]
    }
   ],
   "source": [
    "df_SBER['TRADEDATE'] = pd.to_datetime(df_SBER['TRADEDATE'], format='%Y-%m-%d')\n",
    "df_SBER_cleaned = (df_SBER.loc[:, [\"TRADEDATE\", \"SHORTNAME\", \"OPEN\"]]\n",
    "                    .dropna(subset=\"OPEN\")\n",
    "                    .rename(columns={\"TRADEDATE\": \"date\", \"SHORTNAME\": \"Название компании\", \"OPEN\": \"Цена компании\"})\n",
    "                  )\n",
    "df_SBER_cleaned.info()"
   ]
  },
  {
   "cell_type": "code",
   "execution_count": 14,
   "id": "1d31abb8-55d7-4b58-8f7e-e5ab6b0b95bb",
   "metadata": {},
   "outputs": [
    {
     "data": {
      "text/html": [
       "<div>\n",
       "<style scoped>\n",
       "    .dataframe tbody tr th:only-of-type {\n",
       "        vertical-align: middle;\n",
       "    }\n",
       "\n",
       "    .dataframe tbody tr th {\n",
       "        vertical-align: top;\n",
       "    }\n",
       "\n",
       "    .dataframe thead th {\n",
       "        text-align: right;\n",
       "    }\n",
       "</style>\n",
       "<table border=\"1\" class=\"dataframe\">\n",
       "  <thead>\n",
       "    <tr style=\"text-align: right;\">\n",
       "      <th></th>\n",
       "      <th>date</th>\n",
       "      <th>Название компании</th>\n",
       "      <th>Цена компании</th>\n",
       "    </tr>\n",
       "  </thead>\n",
       "  <tbody>\n",
       "    <tr>\n",
       "      <th>0</th>\n",
       "      <td>2011-11-21</td>\n",
       "      <td>Сбербанк</td>\n",
       "      <td>79.00</td>\n",
       "    </tr>\n",
       "    <tr>\n",
       "      <th>1</th>\n",
       "      <td>2011-11-21</td>\n",
       "      <td>Сбербанк</td>\n",
       "      <td>79.49</td>\n",
       "    </tr>\n",
       "    <tr>\n",
       "      <th>2</th>\n",
       "      <td>2011-11-22</td>\n",
       "      <td>Сбербанк</td>\n",
       "      <td>76.40</td>\n",
       "    </tr>\n",
       "  </tbody>\n",
       "</table>\n",
       "</div>"
      ],
      "text/plain": [
       "        date Название компании  Цена компании\n",
       "0 2011-11-21          Сбербанк          79.00\n",
       "1 2011-11-21          Сбербанк          79.49\n",
       "2 2011-11-22          Сбербанк          76.40"
      ]
     },
     "execution_count": 14,
     "metadata": {},
     "output_type": "execute_result"
    }
   ],
   "source": [
    "df_SBER_cleaned.head(3)"
   ]
  },
  {
   "cell_type": "markdown",
   "id": "d3eb13a0-6f5d-4ab1-b2ec-0cb8d2e5f20c",
   "metadata": {},
   "source": [
    "# Предобработка мосбиржи"
   ]
  },
  {
   "cell_type": "code",
   "execution_count": 15,
   "id": "87b8ee0b-0450-46b9-a0c1-40864e57a637",
   "metadata": {},
   "outputs": [
    {
     "data": {
      "text/html": [
       "<div>\n",
       "<style scoped>\n",
       "    .dataframe tbody tr th:only-of-type {\n",
       "        vertical-align: middle;\n",
       "    }\n",
       "\n",
       "    .dataframe tbody tr th {\n",
       "        vertical-align: top;\n",
       "    }\n",
       "\n",
       "    .dataframe thead th {\n",
       "        text-align: right;\n",
       "    }\n",
       "</style>\n",
       "<table border=\"1\" class=\"dataframe\">\n",
       "  <thead>\n",
       "    <tr style=\"text-align: right;\">\n",
       "      <th></th>\n",
       "      <th>BOARDID</th>\n",
       "      <th>SECID</th>\n",
       "      <th>TRADEDATE</th>\n",
       "      <th>SHORTNAME</th>\n",
       "      <th>NAME</th>\n",
       "      <th>CLOSE</th>\n",
       "      <th>OPEN</th>\n",
       "      <th>HIGH</th>\n",
       "      <th>LOW</th>\n",
       "      <th>VALUE</th>\n",
       "      <th>DURATION</th>\n",
       "      <th>YIELD</th>\n",
       "      <th>DECIMALS</th>\n",
       "      <th>CAPITALIZATION</th>\n",
       "      <th>CURRENCYID</th>\n",
       "      <th>DIVISOR</th>\n",
       "      <th>TRADINGSESSION</th>\n",
       "      <th>VOLUME</th>\n",
       "    </tr>\n",
       "  </thead>\n",
       "  <tbody>\n",
       "    <tr>\n",
       "      <th>0</th>\n",
       "      <td>SNDX</td>\n",
       "      <td>IMOEX</td>\n",
       "      <td>1997-09-22</td>\n",
       "      <td>Индекс МосБиржи</td>\n",
       "      <td>Индекс МосБиржи</td>\n",
       "      <td>100.00</td>\n",
       "      <td>NaN</td>\n",
       "      <td>NaN</td>\n",
       "      <td>NaN</td>\n",
       "      <td>NaN</td>\n",
       "      <td>NaN</td>\n",
       "      <td>NaN</td>\n",
       "      <td>2</td>\n",
       "      <td>NaN</td>\n",
       "      <td>RUB</td>\n",
       "      <td>NaN</td>\n",
       "      <td>3</td>\n",
       "      <td>None</td>\n",
       "    </tr>\n",
       "    <tr>\n",
       "      <th>1</th>\n",
       "      <td>SNDX</td>\n",
       "      <td>IMOEX</td>\n",
       "      <td>1997-09-23</td>\n",
       "      <td>Индекс МосБиржи</td>\n",
       "      <td>Индекс МосБиржи</td>\n",
       "      <td>100.67</td>\n",
       "      <td>NaN</td>\n",
       "      <td>NaN</td>\n",
       "      <td>NaN</td>\n",
       "      <td>NaN</td>\n",
       "      <td>NaN</td>\n",
       "      <td>NaN</td>\n",
       "      <td>2</td>\n",
       "      <td>NaN</td>\n",
       "      <td>RUB</td>\n",
       "      <td>NaN</td>\n",
       "      <td>3</td>\n",
       "      <td>None</td>\n",
       "    </tr>\n",
       "    <tr>\n",
       "      <th>2</th>\n",
       "      <td>SNDX</td>\n",
       "      <td>IMOEX</td>\n",
       "      <td>1997-09-24</td>\n",
       "      <td>Индекс МосБиржи</td>\n",
       "      <td>Индекс МосБиржи</td>\n",
       "      <td>99.94</td>\n",
       "      <td>NaN</td>\n",
       "      <td>NaN</td>\n",
       "      <td>NaN</td>\n",
       "      <td>NaN</td>\n",
       "      <td>NaN</td>\n",
       "      <td>NaN</td>\n",
       "      <td>2</td>\n",
       "      <td>NaN</td>\n",
       "      <td>RUB</td>\n",
       "      <td>NaN</td>\n",
       "      <td>3</td>\n",
       "      <td>None</td>\n",
       "    </tr>\n",
       "  </tbody>\n",
       "</table>\n",
       "</div>"
      ],
      "text/plain": [
       "  BOARDID  SECID   TRADEDATE        SHORTNAME             NAME   CLOSE  OPEN  \\\n",
       "0    SNDX  IMOEX  1997-09-22  Индекс МосБиржи  Индекс МосБиржи  100.00   NaN   \n",
       "1    SNDX  IMOEX  1997-09-23  Индекс МосБиржи  Индекс МосБиржи  100.67   NaN   \n",
       "2    SNDX  IMOEX  1997-09-24  Индекс МосБиржи  Индекс МосБиржи   99.94   NaN   \n",
       "\n",
       "   HIGH  LOW  VALUE  DURATION  YIELD DECIMALS  CAPITALIZATION CURRENCYID  \\\n",
       "0   NaN  NaN    NaN       NaN    NaN        2             NaN        RUB   \n",
       "1   NaN  NaN    NaN       NaN    NaN        2             NaN        RUB   \n",
       "2   NaN  NaN    NaN       NaN    NaN        2             NaN        RUB   \n",
       "\n",
       "   DIVISOR TRADINGSESSION VOLUME  \n",
       "0      NaN              3   None  \n",
       "1      NaN              3   None  \n",
       "2      NaN              3   None  "
      ]
     },
     "execution_count": 15,
     "metadata": {},
     "output_type": "execute_result"
    }
   ],
   "source": [
    "df_history.head(3)"
   ]
  },
  {
   "cell_type": "code",
   "execution_count": 16,
   "id": "3cbab5d3-e2d9-4711-9173-b008bfad1a0c",
   "metadata": {},
   "outputs": [
    {
     "name": "stdout",
     "output_type": "stream",
     "text": [
      "<class 'pandas.core.frame.DataFrame'>\n",
      "RangeIndex: 6718 entries, 0 to 6717\n",
      "Data columns (total 3 columns):\n",
      " #   Column            Non-Null Count  Dtype         \n",
      "---  ------            --------------  -----         \n",
      " 0   date              6718 non-null   datetime64[ns]\n",
      " 1   Название индекса  6718 non-null   object        \n",
      " 2   Цена индекса      6718 non-null   float64       \n",
      "dtypes: datetime64[ns](1), float64(1), object(1)\n",
      "memory usage: 157.6+ KB\n"
     ]
    }
   ],
   "source": [
    "df_history['TRADEDATE'] = pd.to_datetime(df_history['TRADEDATE'], format='%Y-%m-%d')\n",
    "df_history_cleaned = (df_history.loc[:, [\"TRADEDATE\", \"SHORTNAME\", \"CLOSE\"]]\n",
    "                      .rename(columns={\"TRADEDATE\": \"date\", \"SHORTNAME\": \"Название индекса\", \"CLOSE\": \"Цена индекса\"})\n",
    "                     )\n",
    "df_history_cleaned.info()"
   ]
  },
  {
   "cell_type": "code",
   "execution_count": 17,
   "id": "4fc5b39c-b5ad-4319-807c-fc0480154a10",
   "metadata": {},
   "outputs": [
    {
     "data": {
      "text/html": [
       "<div>\n",
       "<style scoped>\n",
       "    .dataframe tbody tr th:only-of-type {\n",
       "        vertical-align: middle;\n",
       "    }\n",
       "\n",
       "    .dataframe tbody tr th {\n",
       "        vertical-align: top;\n",
       "    }\n",
       "\n",
       "    .dataframe thead th {\n",
       "        text-align: right;\n",
       "    }\n",
       "</style>\n",
       "<table border=\"1\" class=\"dataframe\">\n",
       "  <thead>\n",
       "    <tr style=\"text-align: right;\">\n",
       "      <th></th>\n",
       "      <th>date</th>\n",
       "      <th>Название индекса</th>\n",
       "      <th>Цена индекса</th>\n",
       "    </tr>\n",
       "  </thead>\n",
       "  <tbody>\n",
       "    <tr>\n",
       "      <th>0</th>\n",
       "      <td>1997-09-22</td>\n",
       "      <td>Индекс МосБиржи</td>\n",
       "      <td>100.00</td>\n",
       "    </tr>\n",
       "    <tr>\n",
       "      <th>1</th>\n",
       "      <td>1997-09-23</td>\n",
       "      <td>Индекс МосБиржи</td>\n",
       "      <td>100.67</td>\n",
       "    </tr>\n",
       "    <tr>\n",
       "      <th>2</th>\n",
       "      <td>1997-09-24</td>\n",
       "      <td>Индекс МосБиржи</td>\n",
       "      <td>99.94</td>\n",
       "    </tr>\n",
       "  </tbody>\n",
       "</table>\n",
       "</div>"
      ],
      "text/plain": [
       "        date Название индекса  Цена индекса\n",
       "0 1997-09-22  Индекс МосБиржи        100.00\n",
       "1 1997-09-23  Индекс МосБиржи        100.67\n",
       "2 1997-09-24  Индекс МосБиржи         99.94"
      ]
     },
     "execution_count": 17,
     "metadata": {},
     "output_type": "execute_result"
    }
   ],
   "source": [
    "df_history_cleaned.head(3)"
   ]
  },
  {
   "cell_type": "markdown",
   "id": "a58b7d74-9d53-4a4d-b36d-574a68b09a17",
   "metadata": {},
   "source": [
    "# Объединяем все в один датафрейм"
   ]
  },
  {
   "cell_type": "code",
   "execution_count": 18,
   "id": "bcab441d-b9cf-44d9-a661-ee6c15b5ee0e",
   "metadata": {},
   "outputs": [
    {
     "data": {
      "text/html": [
       "<div>\n",
       "<style scoped>\n",
       "    .dataframe tbody tr th:only-of-type {\n",
       "        vertical-align: middle;\n",
       "    }\n",
       "\n",
       "    .dataframe tbody tr th {\n",
       "        vertical-align: top;\n",
       "    }\n",
       "\n",
       "    .dataframe thead th {\n",
       "        text-align: right;\n",
       "    }\n",
       "</style>\n",
       "<table border=\"1\" class=\"dataframe\">\n",
       "  <thead>\n",
       "    <tr style=\"text-align: right;\">\n",
       "      <th></th>\n",
       "      <th>date</th>\n",
       "      <th>Название компании</th>\n",
       "      <th>Цена компании</th>\n",
       "      <th>Название индекса</th>\n",
       "      <th>Цена индекса</th>\n",
       "      <th>Курс рубля</th>\n",
       "      <th>Курс рубля в %</th>\n",
       "      <th>Базовая ставка - краткосрочная, %, Россия</th>\n",
       "    </tr>\n",
       "  </thead>\n",
       "  <tbody>\n",
       "    <tr>\n",
       "      <th>0</th>\n",
       "      <td>2011-11-22</td>\n",
       "      <td>Сбербанк</td>\n",
       "      <td>76.40</td>\n",
       "      <td>Индекс МосБиржи</td>\n",
       "      <td>1401.91</td>\n",
       "      <td>30.9693</td>\n",
       "      <td>0.009331</td>\n",
       "      <td>8.25</td>\n",
       "    </tr>\n",
       "    <tr>\n",
       "      <th>1</th>\n",
       "      <td>2011-11-22</td>\n",
       "      <td>Сбербанк</td>\n",
       "      <td>73.20</td>\n",
       "      <td>Индекс МосБиржи</td>\n",
       "      <td>1401.91</td>\n",
       "      <td>30.9693</td>\n",
       "      <td>0.009331</td>\n",
       "      <td>8.25</td>\n",
       "    </tr>\n",
       "    <tr>\n",
       "      <th>2</th>\n",
       "      <td>2011-11-23</td>\n",
       "      <td>Сбербанк</td>\n",
       "      <td>75.00</td>\n",
       "      <td>Индекс МосБиржи</td>\n",
       "      <td>1404.26</td>\n",
       "      <td>31.0612</td>\n",
       "      <td>0.007048</td>\n",
       "      <td>8.25</td>\n",
       "    </tr>\n",
       "    <tr>\n",
       "      <th>3</th>\n",
       "      <td>2011-11-23</td>\n",
       "      <td>Сбербанк</td>\n",
       "      <td>76.23</td>\n",
       "      <td>Индекс МосБиржи</td>\n",
       "      <td>1404.26</td>\n",
       "      <td>31.0612</td>\n",
       "      <td>0.007048</td>\n",
       "      <td>8.25</td>\n",
       "    </tr>\n",
       "    <tr>\n",
       "      <th>4</th>\n",
       "      <td>2011-11-24</td>\n",
       "      <td>Сбербанк</td>\n",
       "      <td>76.73</td>\n",
       "      <td>Индекс МосБиржи</td>\n",
       "      <td>1392.75</td>\n",
       "      <td>31.2133</td>\n",
       "      <td>0.021064</td>\n",
       "      <td>8.25</td>\n",
       "    </tr>\n",
       "  </tbody>\n",
       "</table>\n",
       "</div>"
      ],
      "text/plain": [
       "        date Название компании  Цена компании Название индекса  Цена индекса  \\\n",
       "0 2011-11-22          Сбербанк          76.40  Индекс МосБиржи       1401.91   \n",
       "1 2011-11-22          Сбербанк          73.20  Индекс МосБиржи       1401.91   \n",
       "2 2011-11-23          Сбербанк          75.00  Индекс МосБиржи       1404.26   \n",
       "3 2011-11-23          Сбербанк          76.23  Индекс МосБиржи       1404.26   \n",
       "4 2011-11-24          Сбербанк          76.73  Индекс МосБиржи       1392.75   \n",
       "\n",
       "   Курс рубля  Курс рубля в %  Базовая ставка - краткосрочная, %, Россия  \n",
       "0     30.9693        0.009331                                       8.25  \n",
       "1     30.9693        0.009331                                       8.25  \n",
       "2     31.0612        0.007048                                       8.25  \n",
       "3     31.0612        0.007048                                       8.25  \n",
       "4     31.2133        0.021064                                       8.25  "
      ]
     },
     "execution_count": 18,
     "metadata": {},
     "output_type": "execute_result"
    }
   ],
   "source": [
    "df = df_SBER_cleaned.merge(df_history_cleaned, on=\"date\").merge(rate_cleaned, on=\"date\").merge(stavka_cleaned, on=\"date\")\n",
    "df.head()"
   ]
  },
  {
   "cell_type": "markdown",
   "id": "b82c5abb-0c36-4df0-9c2c-966d08361cd7",
   "metadata": {},
   "source": [
    "# Рассмотрим корреляцию\n"
   ]
  },
  {
   "cell_type": "code",
   "execution_count": 19,
   "id": "9e13189b-ca85-40ec-ae21-24c5c6043793",
   "metadata": {},
   "outputs": [
    {
     "data": {
      "text/html": [
       "<div>\n",
       "<style scoped>\n",
       "    .dataframe tbody tr th:only-of-type {\n",
       "        vertical-align: middle;\n",
       "    }\n",
       "\n",
       "    .dataframe tbody tr th {\n",
       "        vertical-align: top;\n",
       "    }\n",
       "\n",
       "    .dataframe thead th {\n",
       "        text-align: right;\n",
       "    }\n",
       "</style>\n",
       "<table border=\"1\" class=\"dataframe\">\n",
       "  <thead>\n",
       "    <tr style=\"text-align: right;\">\n",
       "      <th></th>\n",
       "      <th>Цена компании</th>\n",
       "      <th>Цена индекса</th>\n",
       "      <th>Курс рубля</th>\n",
       "      <th>Курс рубля в %</th>\n",
       "      <th>Базовая ставка - краткосрочная, %, Россия</th>\n",
       "    </tr>\n",
       "  </thead>\n",
       "  <tbody>\n",
       "    <tr>\n",
       "      <th>Цена компании</th>\n",
       "      <td>1.000000</td>\n",
       "      <td>0.942273</td>\n",
       "      <td>0.704353</td>\n",
       "      <td>-0.068820</td>\n",
       "      <td>-0.244837</td>\n",
       "    </tr>\n",
       "    <tr>\n",
       "      <th>Цена индекса</th>\n",
       "      <td>0.942273</td>\n",
       "      <td>1.000000</td>\n",
       "      <td>0.777092</td>\n",
       "      <td>-0.095461</td>\n",
       "      <td>-0.166111</td>\n",
       "    </tr>\n",
       "    <tr>\n",
       "      <th>Курс рубля</th>\n",
       "      <td>0.704353</td>\n",
       "      <td>0.777092</td>\n",
       "      <td>1.000000</td>\n",
       "      <td>0.012760</td>\n",
       "      <td>0.202285</td>\n",
       "    </tr>\n",
       "    <tr>\n",
       "      <th>Курс рубля в %</th>\n",
       "      <td>-0.068820</td>\n",
       "      <td>-0.095461</td>\n",
       "      <td>0.012760</td>\n",
       "      <td>1.000000</td>\n",
       "      <td>-0.207488</td>\n",
       "    </tr>\n",
       "    <tr>\n",
       "      <th>Базовая ставка - краткосрочная, %, Россия</th>\n",
       "      <td>-0.244837</td>\n",
       "      <td>-0.166111</td>\n",
       "      <td>0.202285</td>\n",
       "      <td>-0.207488</td>\n",
       "      <td>1.000000</td>\n",
       "    </tr>\n",
       "  </tbody>\n",
       "</table>\n",
       "</div>"
      ],
      "text/plain": [
       "                                           Цена компании  Цена индекса  \\\n",
       "Цена компании                                   1.000000      0.942273   \n",
       "Цена индекса                                    0.942273      1.000000   \n",
       "Курс рубля                                      0.704353      0.777092   \n",
       "Курс рубля в %                                 -0.068820     -0.095461   \n",
       "Базовая ставка - краткосрочная, %, Россия      -0.244837     -0.166111   \n",
       "\n",
       "                                           Курс рубля  Курс рубля в %  \\\n",
       "Цена компании                                0.704353       -0.068820   \n",
       "Цена индекса                                 0.777092       -0.095461   \n",
       "Курс рубля                                   1.000000        0.012760   \n",
       "Курс рубля в %                               0.012760        1.000000   \n",
       "Базовая ставка - краткосрочная, %, Россия    0.202285       -0.207488   \n",
       "\n",
       "                                           Базовая ставка - краткосрочная, %, Россия  \n",
       "Цена компании                                                              -0.244837  \n",
       "Цена индекса                                                               -0.166111  \n",
       "Курс рубля                                                                  0.202285  \n",
       "Курс рубля в %                                                             -0.207488  \n",
       "Базовая ставка - краткосрочная, %, Россия                                   1.000000  "
      ]
     },
     "execution_count": 19,
     "metadata": {},
     "output_type": "execute_result"
    }
   ],
   "source": [
    "df.drop(columns=['date', 'Название компании', 'Название индекса']).corr()"
   ]
  },
  {
   "cell_type": "markdown",
   "id": "8c433e14-4997-4337-bccc-3037bb202284",
   "metadata": {},
   "source": [
    "# Нормализуем данные\n"
   ]
  },
  {
   "cell_type": "code",
   "execution_count": 20,
   "id": "d8807955-875e-4553-9e09-b27be5762a12",
   "metadata": {},
   "outputs": [],
   "source": [
    "X = df[['Цена индекса', \"Курс рубля\"]]\n",
    "y = df[['Цена компании']]"
   ]
  },
  {
   "cell_type": "code",
   "execution_count": 21,
   "id": "96379d29-0691-4d5b-9c5f-ba52ace7264e",
   "metadata": {},
   "outputs": [],
   "source": [
    "x_scaler = MinMaxScaler().fit(X)\n",
    "y_scaler = MinMaxScaler().fit(y)\n",
    "\n",
    "X_scaled = x_scaler.transform(X)\n",
    "y_scaled = y_scaler.transform(y)"
   ]
  },
  {
   "cell_type": "markdown",
   "id": "c22686c3-4a70-4db7-b07a-27aea6b748e4",
   "metadata": {},
   "source": [
    "# Создаем тренировочный и тестовый датафрейм"
   ]
  },
  {
   "cell_type": "code",
   "execution_count": 22,
   "id": "14ff5079-2d7d-4740-ba78-0190d3576d52",
   "metadata": {},
   "outputs": [],
   "source": [
    "x_train, x_test, y_train, y_test = train_test_split(X_scaled, y_scaled, shuffle=False, test_size=0.1)"
   ]
  },
  {
   "cell_type": "markdown",
   "id": "ac544952-0b95-421d-b3c1-05279963461c",
   "metadata": {},
   "source": [
    "# Создаем модель"
   ]
  },
  {
   "cell_type": "code",
   "execution_count": 23,
   "id": "41f564f3-f962-40c5-aecc-6708089856ec",
   "metadata": {},
   "outputs": [
    {
     "data": {
      "text/html": [
       "<style>#sk-container-id-1 {color: black;background-color: white;}#sk-container-id-1 pre{padding: 0;}#sk-container-id-1 div.sk-toggleable {background-color: white;}#sk-container-id-1 label.sk-toggleable__label {cursor: pointer;display: block;width: 100%;margin-bottom: 0;padding: 0.3em;box-sizing: border-box;text-align: center;}#sk-container-id-1 label.sk-toggleable__label-arrow:before {content: \"▸\";float: left;margin-right: 0.25em;color: #696969;}#sk-container-id-1 label.sk-toggleable__label-arrow:hover:before {color: black;}#sk-container-id-1 div.sk-estimator:hover label.sk-toggleable__label-arrow:before {color: black;}#sk-container-id-1 div.sk-toggleable__content {max-height: 0;max-width: 0;overflow: hidden;text-align: left;background-color: #f0f8ff;}#sk-container-id-1 div.sk-toggleable__content pre {margin: 0.2em;color: black;border-radius: 0.25em;background-color: #f0f8ff;}#sk-container-id-1 input.sk-toggleable__control:checked~div.sk-toggleable__content {max-height: 200px;max-width: 100%;overflow: auto;}#sk-container-id-1 input.sk-toggleable__control:checked~label.sk-toggleable__label-arrow:before {content: \"▾\";}#sk-container-id-1 div.sk-estimator input.sk-toggleable__control:checked~label.sk-toggleable__label {background-color: #d4ebff;}#sk-container-id-1 div.sk-label input.sk-toggleable__control:checked~label.sk-toggleable__label {background-color: #d4ebff;}#sk-container-id-1 input.sk-hidden--visually {border: 0;clip: rect(1px 1px 1px 1px);clip: rect(1px, 1px, 1px, 1px);height: 1px;margin: -1px;overflow: hidden;padding: 0;position: absolute;width: 1px;}#sk-container-id-1 div.sk-estimator {font-family: monospace;background-color: #f0f8ff;border: 1px dotted black;border-radius: 0.25em;box-sizing: border-box;margin-bottom: 0.5em;}#sk-container-id-1 div.sk-estimator:hover {background-color: #d4ebff;}#sk-container-id-1 div.sk-parallel-item::after {content: \"\";width: 100%;border-bottom: 1px solid gray;flex-grow: 1;}#sk-container-id-1 div.sk-label:hover label.sk-toggleable__label {background-color: #d4ebff;}#sk-container-id-1 div.sk-serial::before {content: \"\";position: absolute;border-left: 1px solid gray;box-sizing: border-box;top: 0;bottom: 0;left: 50%;z-index: 0;}#sk-container-id-1 div.sk-serial {display: flex;flex-direction: column;align-items: center;background-color: white;padding-right: 0.2em;padding-left: 0.2em;position: relative;}#sk-container-id-1 div.sk-item {position: relative;z-index: 1;}#sk-container-id-1 div.sk-parallel {display: flex;align-items: stretch;justify-content: center;background-color: white;position: relative;}#sk-container-id-1 div.sk-item::before, #sk-container-id-1 div.sk-parallel-item::before {content: \"\";position: absolute;border-left: 1px solid gray;box-sizing: border-box;top: 0;bottom: 0;left: 50%;z-index: -1;}#sk-container-id-1 div.sk-parallel-item {display: flex;flex-direction: column;z-index: 1;position: relative;background-color: white;}#sk-container-id-1 div.sk-parallel-item:first-child::after {align-self: flex-end;width: 50%;}#sk-container-id-1 div.sk-parallel-item:last-child::after {align-self: flex-start;width: 50%;}#sk-container-id-1 div.sk-parallel-item:only-child::after {width: 0;}#sk-container-id-1 div.sk-dashed-wrapped {border: 1px dashed gray;margin: 0 0.4em 0.5em 0.4em;box-sizing: border-box;padding-bottom: 0.4em;background-color: white;}#sk-container-id-1 div.sk-label label {font-family: monospace;font-weight: bold;display: inline-block;line-height: 1.2em;}#sk-container-id-1 div.sk-label-container {text-align: center;}#sk-container-id-1 div.sk-container {/* jupyter's `normalize.less` sets `[hidden] { display: none; }` but bootstrap.min.css set `[hidden] { display: none !important; }` so we also need the `!important` here to be able to override the default hidden behavior on the sphinx rendered scikit-learn.org. See: https://github.com/scikit-learn/scikit-learn/issues/21755 */display: inline-block !important;position: relative;}#sk-container-id-1 div.sk-text-repr-fallback {display: none;}</style><div id=\"sk-container-id-1\" class=\"sk-top-container\"><div class=\"sk-text-repr-fallback\"><pre>LinearRegression()</pre><b>In a Jupyter environment, please rerun this cell to show the HTML representation or trust the notebook. <br />On GitHub, the HTML representation is unable to render, please try loading this page with nbviewer.org.</b></div><div class=\"sk-container\" hidden><div class=\"sk-item\"><div class=\"sk-estimator sk-toggleable\"><input class=\"sk-toggleable__control sk-hidden--visually\" id=\"sk-estimator-id-1\" type=\"checkbox\" checked><label for=\"sk-estimator-id-1\" class=\"sk-toggleable__label sk-toggleable__label-arrow\">LinearRegression</label><div class=\"sk-toggleable__content\"><pre>LinearRegression()</pre></div></div></div></div></div>"
      ],
      "text/plain": [
       "LinearRegression()"
      ]
     },
     "execution_count": 23,
     "metadata": {},
     "output_type": "execute_result"
    }
   ],
   "source": [
    "model = LinearRegression()\n",
    "model.fit(x_train, y_train)"
   ]
  },
  {
   "cell_type": "markdown",
   "id": "dc7383a2-1d4c-442f-91b7-65340ce3776c",
   "metadata": {},
   "source": [
    "# Смотрим качество модели "
   ]
  },
  {
   "cell_type": "code",
   "execution_count": 24,
   "id": "8a45efc1-34d6-42e4-8f5e-52bbef9fce0c",
   "metadata": {},
   "outputs": [
    {
     "data": {
      "text/plain": [
       "92752906788.37515"
      ]
     },
     "execution_count": 24,
     "metadata": {},
     "output_type": "execute_result"
    }
   ],
   "source": [
    "predict = model.predict(x_train)\n",
    "\n",
    "mean_absolute_percentage_error(y_true=y_train, y_pred=predict)"
   ]
  },
  {
   "cell_type": "code",
   "execution_count": 25,
   "id": "0c9d8a6d-20ea-4b82-8497-6c8a93b8e1ba",
   "metadata": {},
   "outputs": [
    {
     "data": {
      "text/plain": [
       "0.12889841401758967"
      ]
     },
     "execution_count": 25,
     "metadata": {},
     "output_type": "execute_result"
    }
   ],
   "source": [
    "test_predict = model.predict(x_test)\n",
    "\n",
    "mean_absolute_percentage_error(y_true=y_test, y_pred=test_predict)"
   ]
  },
  {
   "cell_type": "code",
   "execution_count": 26,
   "id": "2d34859e-5984-4d9a-a636-ccd4a2300023",
   "metadata": {},
   "outputs": [
    {
     "data": {
      "text/plain": [
       "0.07633318562996722"
      ]
     },
     "execution_count": 26,
     "metadata": {},
     "output_type": "execute_result"
    }
   ],
   "source": [
    "predict = model.predict(x_train)\n",
    "\n",
    "mean_squared_error(y_true=y_train, y_pred=predict, squared=False)"
   ]
  },
  {
   "cell_type": "code",
   "execution_count": 27,
   "id": "1cac3acf-0513-497f-be10-b64d5dfcfd9a",
   "metadata": {},
   "outputs": [
    {
     "data": {
      "text/plain": [
       "0.08244434286833538"
      ]
     },
     "execution_count": 27,
     "metadata": {},
     "output_type": "execute_result"
    }
   ],
   "source": [
    "test_predict = model.predict(x_test)\n",
    "\n",
    "mean_squared_error(y_true=y_test, y_pred=test_predict, squared=False)"
   ]
  },
  {
   "cell_type": "markdown",
   "id": "ec7c1d19-1784-4b47-af5d-166fa024a4ba",
   "metadata": {},
   "source": [
    "# Визуализируем "
   ]
  },
  {
   "cell_type": "code",
   "execution_count": 28,
   "id": "3dff03af-9bef-4f76-87cf-e0c835ff9b49",
   "metadata": {},
   "outputs": [],
   "source": [
    "train_range = range(x_train.shape[0])\n",
    "test_range = range(train_range[-1], train_range[-1] + x_test.shape[0])"
   ]
  },
  {
   "cell_type": "code",
   "execution_count": 29,
   "id": "7f236c68-9f03-4205-8cae-68fc3c4bb40c",
   "metadata": {},
   "outputs": [
    {
     "data": {
      "text/plain": [
       "<matplotlib.legend.Legend at 0x1c8841a2010>"
      ]
     },
     "execution_count": 29,
     "metadata": {},
     "output_type": "execute_result"
    },
    {
     "data": {
      "image/png": "[encoded data removed]",
      "text/plain": [
       "<Figure size 1200x800 with 1 Axes>"
      ]
     },
     "metadata": {},
     "output_type": "display_data"
    }
   ],
   "source": [
    "fig, ax = plt.subplots(figsize=(12, 8))\n",
    "\n",
    "ax.set_title('Цена компании')\n",
    "\n",
    "ax.spines['top'].set_visible(False)\n",
    "ax.spines['right'].set_visible(False)\n",
    "\n",
    "ax.plot(df.date[:len(y_train)], y_train, label='Train')\n",
    "ax.plot(df.date[:len(predict)], predict, label='Train predict')\n",
    "\n",
    "ax.plot(df.date[len(y_train):len(y_train) + len(y_test)], y_test, label='Test')\n",
    "ax.plot(df.date[len(y_train):len(y_train) + len(test_predict)], test_predict, label='Test predict')\n",
    "\n",
    "ax.grid(axis='x')\n",
    "ax.legend()"
   ]
  },
  {
   "cell_type": "markdown",
   "id": "4bb1d65e-fb23-48a9-bc6d-7430fd5007dd",
   "metadata": {},
   "source": [
    "# Проверка весов факторов "
   ]
  },
  {
   "cell_type": "code",
   "execution_count": 30,
   "id": "72d009bf-215f-4c61-a236-8f2b7a4b7bec",
   "metadata": {},
   "outputs": [
    {
     "name": "stdout",
     "output_type": "stream",
     "text": [
      "Коэффициенты линейной регрессии:\n",
      "w_0 = 0.07719101949711743\n",
      "w_1 = 0.9661197397104897\n",
      "w_2 = -0.12965973846887938\n"
     ]
    }
   ],
   "source": [
    "w_0 = model.intercept_[0] \n",
    "w_1 = model.coef_[0][0]   # Цена индекса\n",
    "w_2 = model.coef_[0][1]   # Курс рубля\n",
    "\n",
    "print(f'Коэффициенты линейной регрессии:\\n{w_0 = }\\n{w_1 = }\\n{w_2 = }')"
   ]
  },
  {
   "cell_type": "code",
   "execution_count": 31,
   "id": "cbbd1729-66b9-40ff-8c19-cdccd0d02d9a",
   "metadata": {},
   "outputs": [],
   "source": [
    "# Курс рубля почти не влияет на предсказание модели, убрав его метрики улучшатся, а график почти не изменится \n",
    "# Специально не выкладываю проверку весов, так как решение довольно громоздкое"
   ]
  },
  {
   "cell_type": "markdown",
   "id": "48fd8d19-5ffb-4304-8745-0efab24fdd67",
   "metadata": {},
   "source": [
    "# Проверка значимости коэффициентов корреляции"
   ]
  },
  {
   "cell_type": "code",
   "execution_count": 32,
   "id": "00102ef7-cc98-4318-a551-f50318599027",
   "metadata": {},
   "outputs": [
    {
     "name": "stdout",
     "output_type": "stream",
     "text": [
      "                            OLS Regression Results                            \n",
      "==============================================================================\n",
      "Dep. Variable:                      y   R-squared:                       0.518\n",
      "Model:                            OLS   Adj. R-squared:                  0.507\n",
      "Method:                 Least Squares   F-statistic:                     46.27\n",
      "Date:                Thu, 08 Aug 2024   Prob (F-statistic):           3.83e-62\n",
      "Time:                        09:08:17   Log-Likelihood:                -2386.0\n",
      "No. Observations:                 442   AIC:                             4794.\n",
      "Df Residuals:                     431   BIC:                             4839.\n",
      "Df Model:                          10                                         \n",
      "Covariance Type:            nonrobust                                         \n",
      "==============================================================================\n",
      "                 coef    std err          t      P>|t|      [0.025      0.975]\n",
      "------------------------------------------------------------------------------\n",
      "const        152.1335      2.576     59.061      0.000     147.071     157.196\n",
      "x1           -10.0099     59.749     -0.168      0.867    -127.446     107.426\n",
      "x2          -239.8156     61.222     -3.917      0.000    -360.147    -119.484\n",
      "x3           519.8459     66.533      7.813      0.000     389.076     650.616\n",
      "x4           324.3846     65.422      4.958      0.000     195.799     452.970\n",
      "x5          -792.1756    416.680     -1.901      0.058   -1611.153      26.802\n",
      "x6           476.7390    339.030      1.406      0.160    -189.620    1143.098\n",
      "x7           101.0433    212.531      0.475      0.635    -316.684     518.770\n",
      "x8           177.0632    161.476      1.097      0.273    -140.315     494.441\n",
      "x9           751.2737    171.900      4.370      0.000     413.407    1089.140\n",
      "x10           67.6267     65.984      1.025      0.306     -62.064     197.318\n",
      "==============================================================================\n",
      "Omnibus:                        1.506   Durbin-Watson:                   2.029\n",
      "Prob(Omnibus):                  0.471   Jarque-Bera (JB):                1.404\n",
      "Skew:                           0.017   Prob(JB):                        0.496\n",
      "Kurtosis:                       2.726   Cond. No.                         227.\n",
      "==============================================================================\n",
      "\n",
      "Notes:\n",
      "[1] Standard Errors assume that the covariance matrix of the errors is correctly specified.\n"
     ]
    }
   ],
   "source": [
    "diabetes = datasets.load_diabetes()\n",
    "X = diabetes.data\n",
    "y = diabetes.target\n",
    "\n",
    "X2 = sm.add_constant(X)\n",
    "est = sm.OLS(y, X2)\n",
    "est2 = est.fit()\n",
    "print(est2.summary())"
   ]
  },
  {
   "cell_type": "code",
   "execution_count": 34,
   "id": "e409fff6-0e9b-487d-ac6c-972d2ff43347",
   "metadata": {},
   "outputs": [],
   "source": [
    "# я не очень понял, за что отвечают x1:x10, но x1, x5, x6, x7, x8, x10 случайны"
   ]
  },
  {
   "cell_type": "code",
   "execution_count": null,
   "id": "84ce33cb-df67-46bf-a8dc-cc1252db0527",
   "metadata": {},
   "outputs": [],
   "source": []
  },
  {
   "cell_type": "code",
   "execution_count": null,
   "id": "37fc26bf-bcb9-4407-b40b-573008194f46",
   "metadata": {},
   "outputs": [],
   "source": []
  },
  {
   "cell_type": "code",
   "execution_count": null,
   "id": "dd8ac9fa-c817-4470-8668-f556dbd15b0d",
   "metadata": {},
   "outputs": [],
   "source": []
  },
  {
   "cell_type": "code",
   "execution_count": null,
   "id": "b1b36b8b-da30-40a5-9048-68714428f511",
   "metadata": {},
   "outputs": [],
   "source": []
  },
  {
   "cell_type": "code",
   "execution_count": null,
   "id": "b6f71510-2a65-43ff-8916-4b4a7735d4b5",
   "metadata": {},
   "outputs": [],
   "source": []
  },
  {
   "cell_type": "code",
   "execution_count": null,
   "id": "1c197e6c-0af6-4b4b-8fb3-ba2b606429b9",
   "metadata": {},
   "outputs": [],
   "source": []
  },
  {
   "cell_type": "code",
   "execution_count": null,
   "id": "c1352e8f-a57e-4def-951b-9fbcbfb4ddb6",
   "metadata": {},
   "outputs": [],
   "source": []
  },
  {
   "cell_type": "code",
   "execution_count": null,
   "id": "7cd9ad2e-c073-4e0b-bc4c-575fde4b1fec",
   "metadata": {},
   "outputs": [],
   "source": []
  },
  {
   "cell_type": "code",
   "execution_count": null,
   "id": "5227f95f-fdf9-437e-b919-7a4d185b476e",
   "metadata": {},
   "outputs": [],
   "source": []
  },
  {
   "cell_type": "code",
   "execution_count": null,
   "id": "b9636a73-7c21-4e1e-a4b6-2bc1c75eafcd",
   "metadata": {},
   "outputs": [],
   "source": []
  },
  {
   "cell_type": "code",
   "execution_count": null,
   "id": "114b9858-3ac8-428e-a4dc-c5a46b4bcc40",
   "metadata": {},
   "outputs": [],
   "source": []
  },
  {
   "cell_type": "code",
   "execution_count": null,
   "id": "e528483f-8392-445c-9535-4c0d880093c9",
   "metadata": {},
   "outputs": [],
   "source": []
  },
  {
   "cell_type": "code",
   "execution_count": null,
   "id": "9443e4fa-dc2b-42e4-9c9a-9eff073c29a3",
   "metadata": {},
   "outputs": [],
   "source": []
  },
  {
   "cell_type": "code",
   "execution_count": null,
   "id": "77a17c20-1b03-4ae4-994a-e7470838370c",
   "metadata": {},
   "outputs": [],
   "source": []
  },
  {
   "cell_type": "code",
   "execution_count": null,
   "id": "57025bd6-69b5-4d71-a9e2-08e31513d40b",
   "metadata": {},
   "outputs": [],
   "source": []
  },
  {
   "cell_type": "code",
   "execution_count": null,
   "id": "d5a3d807-8dfa-4f41-b83f-6721a03fd66d",
   "metadata": {},
   "outputs": [],
   "source": []
  },
  {
   "cell_type": "code",
   "execution_count": null,
   "id": "ff1504fe-2538-4954-9808-9f33292381e3",
   "metadata": {},
   "outputs": [],
   "source": []
  }
 ],
 "metadata": {
  "kernelspec": {
   "display_name": "Python 3 (ipykernel)",
   "language": "python",
   "name": "python3"
  },
  "language_info": {
   "codemirror_mode": {
    "name": "ipython",
    "version": 3
   },
   "file_extension": ".py",
   "mimetype": "text/x-python",
   "name": "python",
   "nbconvert_exporter": "python",
   "pygments_lexer": "ipython3",
   "version": "3.12.4"
  }
 },
 "nbformat": 4,
 "nbformat_minor": 5
}
